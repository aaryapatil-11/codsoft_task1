{
 "cells": [
  {
   "cell_type": "markdown",
   "id": "d85a2f59-f571-496c-9241-686dd568cf09",
   "metadata": {},
   "source": [
    "# To Do List"
   ]
  },
  {
   "cell_type": "code",
   "execution_count": null,
   "id": "00105e5e-c02e-43e3-bfd7-a4c417550f7e",
   "metadata": {},
   "outputs": [
    {
     "name": "stdout",
     "output_type": "stream",
     "text": [
      "Welcome to the to-do list app :)\n",
      "\n",
      "\n",
      "Please select one of the following options\n",
      "------------------------------------------\n",
      "1. Add a new task\n",
      "2. Delete a task\n",
      "3. List tasks\n",
      "4. Quit\n"
     ]
    },
    {
     "name": "stdin",
     "output_type": "stream",
     "text": [
      "Enter your choice:  1\n",
      "Please enter a task:  Make a PPT\n"
     ]
    },
    {
     "name": "stdout",
     "output_type": "stream",
     "text": [
      "Task 'Make a PPT' added to the list.\n",
      "\n",
      "\n",
      "Please select one of the following options\n",
      "------------------------------------------\n",
      "1. Add a new task\n",
      "2. Delete a task\n",
      "3. List tasks\n",
      "4. Quit\n"
     ]
    },
    {
     "name": "stdin",
     "output_type": "stream",
     "text": [
      "Enter your choice:  3\n"
     ]
    },
    {
     "name": "stdout",
     "output_type": "stream",
     "text": [
      "Current Tasks:\n",
      "Task #0. Make a PPT\n",
      "\n",
      "\n",
      "Please select one of the following options\n",
      "------------------------------------------\n",
      "1. Add a new task\n",
      "2. Delete a task\n",
      "3. List tasks\n",
      "4. Quit\n"
     ]
    },
    {
     "name": "stdin",
     "output_type": "stream",
     "text": [
      "Enter your choice:  1\n",
      "Please enter a task:  Complete HW\n"
     ]
    },
    {
     "name": "stdout",
     "output_type": "stream",
     "text": [
      "Task 'Complete HW' added to the list.\n",
      "\n",
      "\n",
      "Please select one of the following options\n",
      "------------------------------------------\n",
      "1. Add a new task\n",
      "2. Delete a task\n",
      "3. List tasks\n",
      "4. Quit\n"
     ]
    },
    {
     "name": "stdin",
     "output_type": "stream",
     "text": [
      "Enter your choice:  3\n"
     ]
    },
    {
     "name": "stdout",
     "output_type": "stream",
     "text": [
      "Current Tasks:\n",
      "Task #0. Make a PPT\n",
      "Task #1. Complete HW\n",
      "\n",
      "\n",
      "Please select one of the following options\n",
      "------------------------------------------\n",
      "1. Add a new task\n",
      "2. Delete a task\n",
      "3. List tasks\n",
      "4. Quit\n"
     ]
    }
   ],
   "source": [
    "tasks = []\n",
    "\n",
    "\n",
    "def addTask():\n",
    "    task = input(\"Please enter a task: \")\n",
    "    tasks.append(task)\n",
    "    print(f\"Task '{task}' added to the list.\")\n",
    "\n",
    "\n",
    "def listTasks():\n",
    "    if not tasks:\n",
    "        print(\"There are no tasks currently.\")\n",
    "    else:\n",
    "        print(\"Current Tasks:\")\n",
    "        for index, task in enumerate(tasks):\n",
    "            print(f\"Task #{index}. {task}\")\n",
    "\n",
    "\n",
    "def deleteTask():\n",
    "    listTasks()\n",
    "    try:\n",
    "        taskToDelete = int(input(\"Enter the # to delete: \"))\n",
    "        if 0 <= taskToDelete < len(tasks):\n",
    "            tasks.pop(taskToDelete)\n",
    "            print(f\"Task {taskToDelete} has been removed.\")\n",
    "        else:\n",
    "            print(f\"Task #{taskToDelete} was not found.\")\n",
    "    except ValueError:\n",
    "        print(\"Invalid input.\")\n",
    "\n",
    "\n",
    "if __name__ == \"__main__\":\n",
    "    # Create a loop to run the app\n",
    "    print(\"Welcome to the to-do list app :)\")\n",
    "    while True:\n",
    "        print(\"\\n\")\n",
    "        print(\"Please select one of the following options\")\n",
    "        print(\"------------------------------------------\")\n",
    "        print(\"1. Add a new task\")\n",
    "        print(\"2. Delete a task\")\n",
    "        print(\"3. List tasks\")\n",
    "        print(\"4. Quit\")\n",
    "\n",
    "        choice = input(\"Enter your choice: \")\n",
    "\n",
    "        if choice == \"1\":\n",
    "            addTask()\n",
    "        elif choice == \"2\":\n",
    "            deleteTask()\n",
    "        elif choice == \"3\":\n",
    "            listTasks()\n",
    "        elif choice == \"4\":\n",
    "            break\n",
    "        else:\n",
    "            print(\"Invalid input. Please try again.\")\n",
    "\n",
    "    print(\"Goodbye 👋👋\")\n"
   ]
  },
  {
   "cell_type": "code",
   "execution_count": null,
   "id": "bd7492ce-feb3-44ad-8014-ace5b25fd408",
   "metadata": {},
   "outputs": [],
   "source": []
  }
 ],
 "metadata": {
  "kernelspec": {
   "display_name": "Python 3 (ipykernel)",
   "language": "python",
   "name": "python3"
  },
  "language_info": {
   "codemirror_mode": {
    "name": "ipython",
    "version": 3
   },
   "file_extension": ".py",
   "mimetype": "text/x-python",
   "name": "python",
   "nbconvert_exporter": "python",
   "pygments_lexer": "ipython3",
   "version": "3.11.7"
  }
 },
 "nbformat": 4,
 "nbformat_minor": 5
}
